{
 "cells": [
  {
   "cell_type": "code",
   "execution_count": 1,
   "id": "c53309f4",
   "metadata": {},
   "outputs": [],
   "source": [
    "import pandas as pd\n",
    "import numpy as np\n",
    "\n",
    "import seaborn as sns\n",
    "import matplotlib.pyplot as plt"
   ]
  },
  {
   "cell_type": "markdown",
   "id": "0129c594",
   "metadata": {},
   "source": [
    "### Define a function named get_lower_and_upper_bounds that has two arguments. The first argument is a pandas Series. The second argument is the multiplier, which should have a default argument of 1.5."
   ]
  },
  {
   "cell_type": "code",
   "execution_count": 2,
   "id": "1a3f6c7c",
   "metadata": {},
   "outputs": [],
   "source": [
    "def get_lower_and_upper_bounds(series, multiplier = 1.5):\n",
    "    q1, q3 = series.quantile([0.25, 0.75]) # get quartiles\n",
    "        \n",
    "    iqr = q3 - q1   # calculate interquartile range\n",
    "\n",
    "    upper_bound = q3 + multiplier * iqr   # get upper bound\n",
    "    lower_bound = q1 - multiplier * iqr   # get lower bound\n",
    "    \n",
    "    return lower_bound, upper_bound"
   ]
  },
  {
   "cell_type": "markdown",
   "id": "f3db90ea",
   "metadata": {},
   "source": [
    "### Using lemonade.csv dataset and focusing on continuous variables:"
   ]
  },
  {
   "cell_type": "code",
   "execution_count": 3,
   "id": "d075430c",
   "metadata": {},
   "outputs": [],
   "source": [
    "lemonade = pd.read_csv('https://gist.githubusercontent.com/ryanorsinger/19bc7eccd6279661bd13307026628ace/raw/e4b5d6787015a4782f96cad6d1d62a8bdbac54c7/lemonade.csv')"
   ]
  },
  {
   "cell_type": "code",
   "execution_count": 4,
   "id": "9d0969c4",
   "metadata": {},
   "outputs": [
    {
     "data": {
      "text/html": [
       "<div>\n",
       "<style scoped>\n",
       "    .dataframe tbody tr th:only-of-type {\n",
       "        vertical-align: middle;\n",
       "    }\n",
       "\n",
       "    .dataframe tbody tr th {\n",
       "        vertical-align: top;\n",
       "    }\n",
       "\n",
       "    .dataframe thead th {\n",
       "        text-align: right;\n",
       "    }\n",
       "</style>\n",
       "<table border=\"1\" class=\"dataframe\">\n",
       "  <thead>\n",
       "    <tr style=\"text-align: right;\">\n",
       "      <th></th>\n",
       "      <th>Date</th>\n",
       "      <th>Day</th>\n",
       "      <th>Temperature</th>\n",
       "      <th>Rainfall</th>\n",
       "      <th>Flyers</th>\n",
       "      <th>Price</th>\n",
       "      <th>Sales</th>\n",
       "    </tr>\n",
       "  </thead>\n",
       "  <tbody>\n",
       "    <tr>\n",
       "      <th>0</th>\n",
       "      <td>1/1/17</td>\n",
       "      <td>Sunday</td>\n",
       "      <td>27.0</td>\n",
       "      <td>2.00</td>\n",
       "      <td>15</td>\n",
       "      <td>0.5</td>\n",
       "      <td>10</td>\n",
       "    </tr>\n",
       "    <tr>\n",
       "      <th>1</th>\n",
       "      <td>1/2/17</td>\n",
       "      <td>Monday</td>\n",
       "      <td>28.9</td>\n",
       "      <td>1.33</td>\n",
       "      <td>15</td>\n",
       "      <td>0.5</td>\n",
       "      <td>13</td>\n",
       "    </tr>\n",
       "    <tr>\n",
       "      <th>2</th>\n",
       "      <td>1/3/17</td>\n",
       "      <td>Tuesday</td>\n",
       "      <td>34.5</td>\n",
       "      <td>1.33</td>\n",
       "      <td>27</td>\n",
       "      <td>0.5</td>\n",
       "      <td>15</td>\n",
       "    </tr>\n",
       "    <tr>\n",
       "      <th>3</th>\n",
       "      <td>1/4/17</td>\n",
       "      <td>Wednesday</td>\n",
       "      <td>44.1</td>\n",
       "      <td>1.05</td>\n",
       "      <td>28</td>\n",
       "      <td>0.5</td>\n",
       "      <td>17</td>\n",
       "    </tr>\n",
       "    <tr>\n",
       "      <th>4</th>\n",
       "      <td>1/5/17</td>\n",
       "      <td>Thursday</td>\n",
       "      <td>42.4</td>\n",
       "      <td>1.00</td>\n",
       "      <td>33</td>\n",
       "      <td>0.5</td>\n",
       "      <td>18</td>\n",
       "    </tr>\n",
       "    <tr>\n",
       "      <th>...</th>\n",
       "      <td>...</td>\n",
       "      <td>...</td>\n",
       "      <td>...</td>\n",
       "      <td>...</td>\n",
       "      <td>...</td>\n",
       "      <td>...</td>\n",
       "      <td>...</td>\n",
       "    </tr>\n",
       "    <tr>\n",
       "      <th>360</th>\n",
       "      <td>12/27/17</td>\n",
       "      <td>Wednesday</td>\n",
       "      <td>42.7</td>\n",
       "      <td>1.00</td>\n",
       "      <td>33</td>\n",
       "      <td>0.5</td>\n",
       "      <td>19</td>\n",
       "    </tr>\n",
       "    <tr>\n",
       "      <th>361</th>\n",
       "      <td>12/28/17</td>\n",
       "      <td>Thursday</td>\n",
       "      <td>37.8</td>\n",
       "      <td>1.25</td>\n",
       "      <td>32</td>\n",
       "      <td>0.5</td>\n",
       "      <td>16</td>\n",
       "    </tr>\n",
       "    <tr>\n",
       "      <th>362</th>\n",
       "      <td>12/29/17</td>\n",
       "      <td>Friday</td>\n",
       "      <td>39.5</td>\n",
       "      <td>1.25</td>\n",
       "      <td>17</td>\n",
       "      <td>0.5</td>\n",
       "      <td>15</td>\n",
       "    </tr>\n",
       "    <tr>\n",
       "      <th>363</th>\n",
       "      <td>12/30/17</td>\n",
       "      <td>Saturday</td>\n",
       "      <td>30.9</td>\n",
       "      <td>1.43</td>\n",
       "      <td>22</td>\n",
       "      <td>0.5</td>\n",
       "      <td>13</td>\n",
       "    </tr>\n",
       "    <tr>\n",
       "      <th>364</th>\n",
       "      <td>12/31/17</td>\n",
       "      <td>Sunday</td>\n",
       "      <td>15.1</td>\n",
       "      <td>2.50</td>\n",
       "      <td>9</td>\n",
       "      <td>0.5</td>\n",
       "      <td>7</td>\n",
       "    </tr>\n",
       "  </tbody>\n",
       "</table>\n",
       "<p>365 rows × 7 columns</p>\n",
       "</div>"
      ],
      "text/plain": [
       "         Date        Day  Temperature  Rainfall  Flyers  Price  Sales\n",
       "0      1/1/17     Sunday         27.0      2.00      15    0.5     10\n",
       "1      1/2/17     Monday         28.9      1.33      15    0.5     13\n",
       "2      1/3/17    Tuesday         34.5      1.33      27    0.5     15\n",
       "3      1/4/17  Wednesday         44.1      1.05      28    0.5     17\n",
       "4      1/5/17   Thursday         42.4      1.00      33    0.5     18\n",
       "..        ...        ...          ...       ...     ...    ...    ...\n",
       "360  12/27/17  Wednesday         42.7      1.00      33    0.5     19\n",
       "361  12/28/17   Thursday         37.8      1.25      32    0.5     16\n",
       "362  12/29/17     Friday         39.5      1.25      17    0.5     15\n",
       "363  12/30/17   Saturday         30.9      1.43      22    0.5     13\n",
       "364  12/31/17     Sunday         15.1      2.50       9    0.5      7\n",
       "\n",
       "[365 rows x 7 columns]"
      ]
     },
     "execution_count": 4,
     "metadata": {},
     "output_type": "execute_result"
    }
   ],
   "source": [
    "lemonade"
   ]
  },
  {
   "cell_type": "code",
   "execution_count": 5,
   "id": "e4878fc1",
   "metadata": {},
   "outputs": [],
   "source": [
    "#select continuous variables\n",
    "num_cols = list(lemonade.select_dtypes(include=np.number).columns)"
   ]
  },
  {
   "cell_type": "code",
   "execution_count": 6,
   "id": "45115071",
   "metadata": {},
   "outputs": [
    {
     "data": {
      "image/png": "[encoded data removed]",
      "text/plain": [
       "<Figure size 900x900 with 20 Axes>"
      ]
     },
     "metadata": {
      "needs_background": "light"
     },
     "output_type": "display_data"
    }
   ],
   "source": [
    "sns.pairplot(lemonade, corner=True);"
   ]
  },
  {
   "cell_type": "code",
   "execution_count": 7,
   "id": "fc5bfb83",
   "metadata": {},
   "outputs": [
    {
     "data": {
      "image/png": "[encoded data removed]",
      "text/plain": [
       "<Figure size 432x288 with 1 Axes>"
      ]
     },
     "metadata": {
      "needs_background": "light"
     },
     "output_type": "display_data"
    },
    {
     "data": {
      "image/png": "[encoded data removed]",
      "text/plain": [
       "<Figure size 432x288 with 1 Axes>"
      ]
     },
     "metadata": {
      "needs_background": "light"
     },
     "output_type": "display_data"
    },
    {
     "name": "stdout",
     "output_type": "stream",
     "text": [
      "--------\n"
     ]
    },
    {
     "data": {
      "image/png": "[encoded data removed]",
      "text/plain": [
       "<Figure size 432x288 with 1 Axes>"
      ]
     },
     "metadata": {
      "needs_background": "light"
     },
     "output_type": "display_data"
    },
    {
     "data": {
      "image/png": "[encoded data removed]",
      "text/plain": [
       "<Figure size 432x288 with 1 Axes>"
      ]
     },
     "metadata": {
      "needs_background": "light"
     },
     "output_type": "display_data"
    },
    {
     "name": "stdout",
     "output_type": "stream",
     "text": [
      "--------\n"
     ]
    },
    {
     "data": {
      "image/png": "[encoded data removed]",
      "text/plain": [
       "<Figure size 432x288 with 1 Axes>"
      ]
     },
     "metadata": {
      "needs_background": "light"
     },
     "output_type": "display_data"
    },
    {
     "data": {
      "image/png": "[encoded data removed]",
      "text/plain": [
       "<Figure size 432x288 with 1 Axes>"
      ]
     },
     "metadata": {
      "needs_background": "light"
     },
     "output_type": "display_data"
    },
    {
     "name": "stdout",
     "output_type": "stream",
     "text": [
      "--------\n"
     ]
    },
    {
     "data": {
      "image/png": "[encoded data removed]",
      "text/plain": [
       "<Figure size 432x288 with 1 Axes>"
      ]
     },
     "metadata": {
      "needs_background": "light"
     },
     "output_type": "display_data"
    },
    {
     "data": {
      "image/png": "[encoded data removed]",
      "text/plain": [
       "<Figure size 432x288 with 1 Axes>"
      ]
     },
     "metadata": {
      "needs_background": "light"
     },
     "output_type": "display_data"
    },
    {
     "name": "stdout",
     "output_type": "stream",
     "text": [
      "--------\n"
     ]
    },
    {
     "data": {
      "image/png": "[encoded data removed]",
      "text/plain": [
       "<Figure size 432x288 with 1 Axes>"
      ]
     },
     "metadata": {
      "needs_background": "light"
     },
     "output_type": "display_data"
    },
    {
     "data": {
      "image/png": "[encoded data removed]",
      "text/plain": [
       "<Figure size 432x288 with 1 Axes>"
      ]
     },
     "metadata": {
      "needs_background": "light"
     },
     "output_type": "display_data"
    },
    {
     "name": "stdout",
     "output_type": "stream",
     "text": [
      "--------\n"
     ]
    }
   ],
   "source": [
    "for col in num_cols:\n",
    "    if np.issubdtype(lemonade[col].dtype, np.number):\n",
    "        lemonade[col].hist()\n",
    "        plt.title(col)\n",
    "        plt.show()\n",
    "        sns.boxplot(data=lemonade, x=col)\n",
    "        plt.show()\n",
    "        print('--------')"
   ]
  },
  {
   "cell_type": "code",
   "execution_count": 8,
   "id": "3ecfbb4b",
   "metadata": {},
   "outputs": [],
   "source": [
    "lemonade['Date'] = pd.to_datetime(lemonade.Date)"
   ]
  },
  {
   "cell_type": "code",
   "execution_count": 9,
   "id": "6ed8ef80",
   "metadata": {},
   "outputs": [],
   "source": [
    "lemonade = lemonade.set_index('Date')"
   ]
  },
  {
   "cell_type": "code",
   "execution_count": 10,
   "id": "4597ce40",
   "metadata": {},
   "outputs": [
    {
     "data": {
      "text/html": [
       "<div>\n",
       "<style scoped>\n",
       "    .dataframe tbody tr th:only-of-type {\n",
       "        vertical-align: middle;\n",
       "    }\n",
       "\n",
       "    .dataframe tbody tr th {\n",
       "        vertical-align: top;\n",
       "    }\n",
       "\n",
       "    .dataframe thead th {\n",
       "        text-align: right;\n",
       "    }\n",
       "</style>\n",
       "<table border=\"1\" class=\"dataframe\">\n",
       "  <thead>\n",
       "    <tr style=\"text-align: right;\">\n",
       "      <th></th>\n",
       "      <th>Temperature</th>\n",
       "      <th>Rainfall</th>\n",
       "      <th>Flyers</th>\n",
       "      <th>Price</th>\n",
       "      <th>Sales</th>\n",
       "    </tr>\n",
       "  </thead>\n",
       "  <tbody>\n",
       "    <tr>\n",
       "      <th>count</th>\n",
       "      <td>365.000000</td>\n",
       "      <td>365.000000</td>\n",
       "      <td>365.000000</td>\n",
       "      <td>365.0</td>\n",
       "      <td>365.000000</td>\n",
       "    </tr>\n",
       "    <tr>\n",
       "      <th>mean</th>\n",
       "      <td>61.224658</td>\n",
       "      <td>0.825973</td>\n",
       "      <td>40.104110</td>\n",
       "      <td>0.5</td>\n",
       "      <td>27.865753</td>\n",
       "    </tr>\n",
       "    <tr>\n",
       "      <th>std</th>\n",
       "      <td>18.085892</td>\n",
       "      <td>0.273890</td>\n",
       "      <td>13.786445</td>\n",
       "      <td>0.0</td>\n",
       "      <td>30.948132</td>\n",
       "    </tr>\n",
       "    <tr>\n",
       "      <th>min</th>\n",
       "      <td>15.100000</td>\n",
       "      <td>0.400000</td>\n",
       "      <td>-38.000000</td>\n",
       "      <td>0.5</td>\n",
       "      <td>7.000000</td>\n",
       "    </tr>\n",
       "    <tr>\n",
       "      <th>25%</th>\n",
       "      <td>49.700000</td>\n",
       "      <td>0.650000</td>\n",
       "      <td>31.000000</td>\n",
       "      <td>0.5</td>\n",
       "      <td>20.000000</td>\n",
       "    </tr>\n",
       "    <tr>\n",
       "      <th>50%</th>\n",
       "      <td>61.100000</td>\n",
       "      <td>0.740000</td>\n",
       "      <td>39.000000</td>\n",
       "      <td>0.5</td>\n",
       "      <td>25.000000</td>\n",
       "    </tr>\n",
       "    <tr>\n",
       "      <th>75%</th>\n",
       "      <td>71.700000</td>\n",
       "      <td>0.910000</td>\n",
       "      <td>49.000000</td>\n",
       "      <td>0.5</td>\n",
       "      <td>30.000000</td>\n",
       "    </tr>\n",
       "    <tr>\n",
       "      <th>max</th>\n",
       "      <td>212.000000</td>\n",
       "      <td>2.500000</td>\n",
       "      <td>80.000000</td>\n",
       "      <td>0.5</td>\n",
       "      <td>534.000000</td>\n",
       "    </tr>\n",
       "  </tbody>\n",
       "</table>\n",
       "</div>"
      ],
      "text/plain": [
       "       Temperature    Rainfall      Flyers  Price       Sales\n",
       "count   365.000000  365.000000  365.000000  365.0  365.000000\n",
       "mean     61.224658    0.825973   40.104110    0.5   27.865753\n",
       "std      18.085892    0.273890   13.786445    0.0   30.948132\n",
       "min      15.100000    0.400000  -38.000000    0.5    7.000000\n",
       "25%      49.700000    0.650000   31.000000    0.5   20.000000\n",
       "50%      61.100000    0.740000   39.000000    0.5   25.000000\n",
       "75%      71.700000    0.910000   49.000000    0.5   30.000000\n",
       "max     212.000000    2.500000   80.000000    0.5  534.000000"
      ]
     },
     "execution_count": 10,
     "metadata": {},
     "output_type": "execute_result"
    }
   ],
   "source": [
    "lemonade.describe()"
   ]
  },
  {
   "cell_type": "markdown",
   "id": "7914e158",
   "metadata": {},
   "source": [
    "#### Use the IQR Range Rule and the upper and lower bounds to identify the lower outliers of each column of lemonade.csv, using the multiplier of 1.5. Do these lower outliers make sense? Which outliers should be kept?"
   ]
  },
  {
   "cell_type": "code",
   "execution_count": 11,
   "id": "618f209f",
   "metadata": {},
   "outputs": [
    {
     "name": "stdout",
     "output_type": "stream",
     "text": [
      "Temperature lower outliers\n",
      "| Date                | Day    |   Temperature |   Rainfall |   Flyers |   Price |   Sales |\n",
      "|:--------------------|:-------|--------------:|-----------:|---------:|--------:|--------:|\n",
      "| 2017-12-31 00:00:00 | Sunday |          15.1 |        2.5 |        9 |     0.5 |       7 |\n",
      "\n",
      "\n",
      "Flyers lower outliers\n",
      "| Date                | Day     |   Temperature |   Rainfall |   Flyers |   Price |   Sales |\n",
      "|:--------------------|:--------|--------------:|-----------:|---------:|--------:|--------:|\n",
      "| 2017-11-21 00:00:00 | Tuesday |            47 |       0.95 |      -38 |     0.5 |      20 |\n",
      "\n",
      "\n"
     ]
    }
   ],
   "source": [
    "for col in num_cols:\n",
    "    lower, upper = get_lower_and_upper_bounds(lemonade[col])\n",
    "    lower_lemons = lemonade[lemonade[col] < lower]\n",
    "    if not lower_lemons.empty:\n",
    "        print(f'{col} lower outliers\\n{lower_lemons.to_markdown()}\\n\\n')"
   ]
  },
  {
   "cell_type": "markdown",
   "id": "9016104d",
   "metadata": {},
   "source": [
    "#### Use the IQR Range Rule and the upper and upper bounds to identify the upper outliers of each column of lemonade.csv, using the multiplier of 1.5. Do these upper outliers make sense? Which outliers should be kept?"
   ]
  },
  {
   "cell_type": "code",
   "execution_count": 12,
   "id": "79c89803",
   "metadata": {},
   "outputs": [
    {
     "name": "stdout",
     "output_type": "stream",
     "text": [
      "Temperature upper outliers\n",
      "| Date                | Day      |   Temperature |   Rainfall |   Flyers |   Price |   Sales |\n",
      "|:--------------------|:---------|--------------:|-----------:|---------:|--------:|--------:|\n",
      "| 2017-02-11 00:00:00 | Saturday |           212 |       0.91 |       35 |     0.5 |      21 |\n",
      "\n",
      "\n",
      "Rainfall upper outliers\n",
      "| Date                | Day       |   Temperature |   Rainfall |   Flyers |   Price |   Sales |\n",
      "|:--------------------|:----------|--------------:|-----------:|---------:|--------:|--------:|\n",
      "| 2017-01-01 00:00:00 | Sunday    |          27   |       2    |       15 |     0.5 |      10 |\n",
      "| 2017-01-02 00:00:00 | Monday    |          28.9 |       1.33 |       15 |     0.5 |      13 |\n",
      "| 2017-01-03 00:00:00 | Tuesday   |          34.5 |       1.33 |       27 |     0.5 |      15 |\n",
      "| 2017-01-06 00:00:00 | Friday    |          25.3 |       1.54 |       23 |     0.5 |      11 |\n",
      "| 2017-01-07 00:00:00 | Saturday  |          32.9 |       1.54 |       19 |     0.5 |      13 |\n",
      "| 2017-01-11 00:00:00 | Wednesday |          32.6 |       1.54 |       23 |     0.5 |      12 |\n",
      "| 2017-01-12 00:00:00 | Thursday  |          38.2 |       1.33 |       16 |     0.5 |      14 |\n",
      "| 2017-01-13 00:00:00 | Friday    |          37.5 |       1.33 |       19 |     0.5 |      15 |\n",
      "| 2017-01-16 00:00:00 | Monday    |          30.6 |       1.67 |       24 |     0.5 |      12 |\n",
      "| 2017-01-17 00:00:00 | Tuesday   |          32.2 |       1.43 |       26 |     0.5 |      14 |\n",
      "| 2017-01-20 00:00:00 | Friday    |          31.6 |       1.43 |       20 |     0.5 |      12 |\n",
      "| 2017-01-24 00:00:00 | Tuesday   |          28.6 |       1.54 |       20 |     0.5 |      12 |\n",
      "| 2017-01-28 00:00:00 | Saturday  |          34.9 |       1.33 |       15 |     0.5 |      13 |\n",
      "| 2017-01-29 00:00:00 | Sunday    |          35.2 |       1.33 |       27 |     0.5 |      14 |\n",
      "| 2017-12-04 00:00:00 | Monday    |          34.9 |       1.54 |       16 |     0.5 |      13 |\n",
      "| 2017-12-05 00:00:00 | Tuesday   |          22   |       1.82 |       11 |     0.5 |      10 |\n",
      "| 2017-12-09 00:00:00 | Saturday  |          31.2 |       1.43 |       19 |     0.5 |      14 |\n",
      "| 2017-12-10 00:00:00 | Sunday    |          31.3 |       1.82 |       15 |     0.5 |      11 |\n",
      "| 2017-12-12 00:00:00 | Tuesday   |          33.5 |       1.33 |       22 |     0.5 |      15 |\n",
      "| 2017-12-13 00:00:00 | Wednesday |          32.2 |       1.43 |       26 |     0.5 |      14 |\n",
      "| 2017-12-14 00:00:00 | Thursday  |          31.9 |       1.54 |       24 |     0.5 |      13 |\n",
      "| 2017-12-17 00:00:00 | Sunday    |          32.2 |       1.33 |       16 |     0.5 |      14 |\n",
      "| 2017-12-18 00:00:00 | Monday    |          30.9 |       1.43 |       27 |     0.5 |      13 |\n",
      "| 2017-12-21 00:00:00 | Thursday  |          40.5 |       1.33 |       23 |     0.5 |      15 |\n",
      "| 2017-12-22 00:00:00 | Friday    |          30.9 |       1.54 |       17 |     0.5 |      13 |\n",
      "| 2017-12-26 00:00:00 | Tuesday   |          28.9 |       1.43 |       23 |     0.5 |      13 |\n",
      "| 2017-12-30 00:00:00 | Saturday  |          30.9 |       1.43 |       22 |     0.5 |      13 |\n",
      "| 2017-12-31 00:00:00 | Sunday    |          15.1 |       2.5  |        9 |     0.5 |       7 |\n",
      "\n",
      "\n",
      "Flyers upper outliers\n",
      "| Date                | Day    |   Temperature |   Rainfall |   Flyers |   Price |   Sales |\n",
      "|:--------------------|:-------|--------------:|-----------:|---------:|--------:|--------:|\n",
      "| 2017-06-16 00:00:00 | Friday |          99.3 |       0.47 |       77 |     0.5 |      41 |\n",
      "| 2017-07-14 00:00:00 | Friday |          92   |       0.5  |       80 |     0.5 |      40 |\n",
      "\n",
      "\n",
      "Sales upper outliers\n",
      "| Date                | Day      |   Temperature |   Rainfall |   Flyers |   Price |   Sales |\n",
      "|:--------------------|:---------|--------------:|-----------:|---------:|--------:|--------:|\n",
      "| 2017-07-01 00:00:00 | Saturday |         102.9 |       0.47 |       59 |     0.5 |     143 |\n",
      "| 2017-07-02 00:00:00 | Sunday   |          93.4 |       0.51 |       68 |     0.5 |     158 |\n",
      "| 2017-07-03 00:00:00 | Monday   |          81.5 |       0.54 |       68 |     0.5 |     235 |\n",
      "| 2017-07-04 00:00:00 | Tuesday  |          84.2 |       0.59 |       49 |     0.5 |     534 |\n",
      "\n",
      "\n"
     ]
    }
   ],
   "source": [
    "for col in num_cols:\n",
    "    lower, upper = get_lower_and_upper_bounds(lemonade[col])\n",
    "    upper_lemons = lemonade[lemonade[col] > upper]\n",
    "    if not upper_lemons.empty:\n",
    "        print(f'{col} upper outliers\\n{upper_lemons.to_markdown()}\\n\\n')"
   ]
  },
  {
   "cell_type": "markdown",
   "id": "4f74991b",
   "metadata": {},
   "source": [
    "#### Using the multiplier of 3, IQR Range Rule, and the lower bounds, identify the outliers below the lower bound in each column of lemonade.csv. Do these lower outliers make sense? Which outliers should be kept?"
   ]
  },
  {
   "cell_type": "code",
   "execution_count": 13,
   "id": "9a534fac",
   "metadata": {},
   "outputs": [
    {
     "name": "stdout",
     "output_type": "stream",
     "text": [
      "Flyers outer lower outliers\n",
      "| Date                | Day     |   Temperature |   Rainfall |   Flyers |   Price |   Sales |\n",
      "|:--------------------|:--------|--------------:|-----------:|---------:|--------:|--------:|\n",
      "| 2017-11-21 00:00:00 | Tuesday |            47 |       0.95 |      -38 |     0.5 |      20 |\n",
      "\n",
      "\n"
     ]
    }
   ],
   "source": [
    "for col in num_cols:\n",
    "    lower, upper = get_lower_and_upper_bounds(lemonade[col], multiplier = 3)\n",
    "    lower_lemons = lemonade[lemonade[col] < lower]\n",
    "    if not lower_lemons.empty:\n",
    "        print(f'{col} outer lower outliers\\n{lower_lemons.to_markdown()}\\n\\n')"
   ]
  },
  {
   "cell_type": "markdown",
   "id": "e1e21723",
   "metadata": {},
   "source": [
    "#### Using the multiplier of 3, IQR Range Rule, and the upper bounds, identify the outliers above the upper_bound in each column of lemonade.csv. Do these upper outliers make sense? Which outliers should be kept?"
   ]
  },
  {
   "cell_type": "code",
   "execution_count": 14,
   "id": "05954844",
   "metadata": {},
   "outputs": [
    {
     "name": "stdout",
     "output_type": "stream",
     "text": [
      "Temperature outer upper outliers\n",
      "| Date                | Day      |   Temperature |   Rainfall |   Flyers |   Price |   Sales |\n",
      "|:--------------------|:---------|--------------:|-----------:|---------:|--------:|--------:|\n",
      "| 2017-02-11 00:00:00 | Saturday |           212 |       0.91 |       35 |     0.5 |      21 |\n",
      "\n",
      "\n",
      "Rainfall outer upper outliers\n",
      "| Date                | Day     |   Temperature |   Rainfall |   Flyers |   Price |   Sales |\n",
      "|:--------------------|:--------|--------------:|-----------:|---------:|--------:|--------:|\n",
      "| 2017-01-01 00:00:00 | Sunday  |          27   |       2    |       15 |     0.5 |      10 |\n",
      "| 2017-12-05 00:00:00 | Tuesday |          22   |       1.82 |       11 |     0.5 |      10 |\n",
      "| 2017-12-10 00:00:00 | Sunday  |          31.3 |       1.82 |       15 |     0.5 |      11 |\n",
      "| 2017-12-31 00:00:00 | Sunday  |          15.1 |       2.5  |        9 |     0.5 |       7 |\n",
      "\n",
      "\n",
      "Sales outer upper outliers\n",
      "| Date                | Day      |   Temperature |   Rainfall |   Flyers |   Price |   Sales |\n",
      "|:--------------------|:---------|--------------:|-----------:|---------:|--------:|--------:|\n",
      "| 2017-07-01 00:00:00 | Saturday |         102.9 |       0.47 |       59 |     0.5 |     143 |\n",
      "| 2017-07-02 00:00:00 | Sunday   |          93.4 |       0.51 |       68 |     0.5 |     158 |\n",
      "| 2017-07-03 00:00:00 | Monday   |          81.5 |       0.54 |       68 |     0.5 |     235 |\n",
      "| 2017-07-04 00:00:00 | Tuesday  |          84.2 |       0.59 |       49 |     0.5 |     534 |\n",
      "\n",
      "\n"
     ]
    }
   ],
   "source": [
    "for col in num_cols:\n",
    "    lower, upper = get_lower_and_upper_bounds(lemonade[col], multiplier = 3)\n",
    "    upper_lemons = lemonade[lemonade[col] > upper]\n",
    "    if not upper_lemons.empty:\n",
    "        print(f'{col} outer upper outliers\\n{upper_lemons.to_markdown()}\\n\\n')"
   ]
  },
  {
   "cell_type": "markdown",
   "id": "d4924feb",
   "metadata": {},
   "source": [
    "### Identify if any columns in lemonade.csv are normally distributed. For normally distributed columns:\n",
    "\n",
    "#### Use a 2 sigma decision rule to isolate the outliers.\n",
    "\n",
    "- Do these make sense?\n",
    "- Should certain outliers be kept or removed?"
   ]
  },
  {
   "cell_type": "code",
   "execution_count": 15,
   "id": "fa1dbee3",
   "metadata": {},
   "outputs": [],
   "source": [
    "z_scores = (lemonade['Temperature'] - lemonade['Temperature'].mean()) / lemonade['Temperature'].std()"
   ]
  },
  {
   "cell_type": "code",
   "execution_count": 16,
   "id": "dcd8d2b0",
   "metadata": {},
   "outputs": [],
   "source": [
    "lemonade['temp_zscores'] = z_scores"
   ]
  },
  {
   "cell_type": "code",
   "execution_count": 17,
   "id": "405963dc",
   "metadata": {},
   "outputs": [
    {
     "data": {
      "text/html": [
       "<div>\n",
       "<style scoped>\n",
       "    .dataframe tbody tr th:only-of-type {\n",
       "        vertical-align: middle;\n",
       "    }\n",
       "\n",
       "    .dataframe tbody tr th {\n",
       "        vertical-align: top;\n",
       "    }\n",
       "\n",
       "    .dataframe thead th {\n",
       "        text-align: right;\n",
       "    }\n",
       "</style>\n",
       "<table border=\"1\" class=\"dataframe\">\n",
       "  <thead>\n",
       "    <tr style=\"text-align: right;\">\n",
       "      <th></th>\n",
       "      <th>Day</th>\n",
       "      <th>Temperature</th>\n",
       "      <th>Rainfall</th>\n",
       "      <th>Flyers</th>\n",
       "      <th>Price</th>\n",
       "      <th>Sales</th>\n",
       "      <th>temp_zscores</th>\n",
       "    </tr>\n",
       "    <tr>\n",
       "      <th>Date</th>\n",
       "      <th></th>\n",
       "      <th></th>\n",
       "      <th></th>\n",
       "      <th></th>\n",
       "      <th></th>\n",
       "      <th></th>\n",
       "      <th></th>\n",
       "    </tr>\n",
       "  </thead>\n",
       "  <tbody>\n",
       "    <tr>\n",
       "      <th>2017-02-11</th>\n",
       "      <td>Saturday</td>\n",
       "      <td>212.0</td>\n",
       "      <td>0.91</td>\n",
       "      <td>35</td>\n",
       "      <td>0.5</td>\n",
       "      <td>21</td>\n",
       "      <td>8.336627</td>\n",
       "    </tr>\n",
       "    <tr>\n",
       "      <th>2017-06-16</th>\n",
       "      <td>Friday</td>\n",
       "      <td>99.3</td>\n",
       "      <td>0.47</td>\n",
       "      <td>77</td>\n",
       "      <td>0.5</td>\n",
       "      <td>41</td>\n",
       "      <td>2.105251</td>\n",
       "    </tr>\n",
       "    <tr>\n",
       "      <th>2017-06-26</th>\n",
       "      <td>Monday</td>\n",
       "      <td>102.6</td>\n",
       "      <td>0.47</td>\n",
       "      <td>60</td>\n",
       "      <td>0.5</td>\n",
       "      <td>42</td>\n",
       "      <td>2.287714</td>\n",
       "    </tr>\n",
       "    <tr>\n",
       "      <th>2017-07-01</th>\n",
       "      <td>Saturday</td>\n",
       "      <td>102.9</td>\n",
       "      <td>0.47</td>\n",
       "      <td>59</td>\n",
       "      <td>0.5</td>\n",
       "      <td>143</td>\n",
       "      <td>2.304301</td>\n",
       "    </tr>\n",
       "    <tr>\n",
       "      <th>2017-07-10</th>\n",
       "      <td>Monday</td>\n",
       "      <td>98.0</td>\n",
       "      <td>0.49</td>\n",
       "      <td>66</td>\n",
       "      <td>0.5</td>\n",
       "      <td>40</td>\n",
       "      <td>2.033372</td>\n",
       "    </tr>\n",
       "    <tr>\n",
       "      <th>2017-07-18</th>\n",
       "      <td>Tuesday</td>\n",
       "      <td>99.3</td>\n",
       "      <td>0.47</td>\n",
       "      <td>76</td>\n",
       "      <td>0.5</td>\n",
       "      <td>41</td>\n",
       "      <td>2.105251</td>\n",
       "    </tr>\n",
       "    <tr>\n",
       "      <th>2017-07-22</th>\n",
       "      <td>Saturday</td>\n",
       "      <td>99.6</td>\n",
       "      <td>0.47</td>\n",
       "      <td>49</td>\n",
       "      <td>0.5</td>\n",
       "      <td>42</td>\n",
       "      <td>2.121838</td>\n",
       "    </tr>\n",
       "    <tr>\n",
       "      <th>2017-07-27</th>\n",
       "      <td>Thursday</td>\n",
       "      <td>97.9</td>\n",
       "      <td>0.47</td>\n",
       "      <td>74</td>\n",
       "      <td>0.5</td>\n",
       "      <td>43</td>\n",
       "      <td>2.027843</td>\n",
       "    </tr>\n",
       "    <tr>\n",
       "      <th>2017-12-05</th>\n",
       "      <td>Tuesday</td>\n",
       "      <td>22.0</td>\n",
       "      <td>1.82</td>\n",
       "      <td>11</td>\n",
       "      <td>0.5</td>\n",
       "      <td>10</td>\n",
       "      <td>-2.168799</td>\n",
       "    </tr>\n",
       "    <tr>\n",
       "      <th>2017-12-31</th>\n",
       "      <td>Sunday</td>\n",
       "      <td>15.1</td>\n",
       "      <td>2.50</td>\n",
       "      <td>9</td>\n",
       "      <td>0.5</td>\n",
       "      <td>7</td>\n",
       "      <td>-2.550311</td>\n",
       "    </tr>\n",
       "  </tbody>\n",
       "</table>\n",
       "</div>"
      ],
      "text/plain": [
       "                 Day  Temperature  Rainfall  Flyers  Price  Sales  \\\n",
       "Date                                                                \n",
       "2017-02-11  Saturday        212.0      0.91      35    0.5     21   \n",
       "2017-06-16    Friday         99.3      0.47      77    0.5     41   \n",
       "2017-06-26    Monday        102.6      0.47      60    0.5     42   \n",
       "2017-07-01  Saturday        102.9      0.47      59    0.5    143   \n",
       "2017-07-10    Monday         98.0      0.49      66    0.5     40   \n",
       "2017-07-18   Tuesday         99.3      0.47      76    0.5     41   \n",
       "2017-07-22  Saturday         99.6      0.47      49    0.5     42   \n",
       "2017-07-27  Thursday         97.9      0.47      74    0.5     43   \n",
       "2017-12-05   Tuesday         22.0      1.82      11    0.5     10   \n",
       "2017-12-31    Sunday         15.1      2.50       9    0.5      7   \n",
       "\n",
       "            temp_zscores  \n",
       "Date                      \n",
       "2017-02-11      8.336627  \n",
       "2017-06-16      2.105251  \n",
       "2017-06-26      2.287714  \n",
       "2017-07-01      2.304301  \n",
       "2017-07-10      2.033372  \n",
       "2017-07-18      2.105251  \n",
       "2017-07-22      2.121838  \n",
       "2017-07-27      2.027843  \n",
       "2017-12-05     -2.168799  \n",
       "2017-12-31     -2.550311  "
      ]
     },
     "execution_count": 17,
     "metadata": {},
     "output_type": "execute_result"
    }
   ],
   "source": [
    "lemonade[lemonade['temp_zscores'].abs() >=2]"
   ]
  },
  {
   "cell_type": "markdown",
   "id": "5ca7b08f",
   "metadata": {},
   "source": [
    "### Now use a 3 sigma decision rule to isolate the outliers in the normally distributed columns from lemonade.csv"
   ]
  },
  {
   "cell_type": "code",
   "execution_count": 18,
   "id": "dbf6d901",
   "metadata": {},
   "outputs": [
    {
     "data": {
      "text/html": [
       "<div>\n",
       "<style scoped>\n",
       "    .dataframe tbody tr th:only-of-type {\n",
       "        vertical-align: middle;\n",
       "    }\n",
       "\n",
       "    .dataframe tbody tr th {\n",
       "        vertical-align: top;\n",
       "    }\n",
       "\n",
       "    .dataframe thead th {\n",
       "        text-align: right;\n",
       "    }\n",
       "</style>\n",
       "<table border=\"1\" class=\"dataframe\">\n",
       "  <thead>\n",
       "    <tr style=\"text-align: right;\">\n",
       "      <th></th>\n",
       "      <th>Day</th>\n",
       "      <th>Temperature</th>\n",
       "      <th>Rainfall</th>\n",
       "      <th>Flyers</th>\n",
       "      <th>Price</th>\n",
       "      <th>Sales</th>\n",
       "      <th>temp_zscores</th>\n",
       "    </tr>\n",
       "    <tr>\n",
       "      <th>Date</th>\n",
       "      <th></th>\n",
       "      <th></th>\n",
       "      <th></th>\n",
       "      <th></th>\n",
       "      <th></th>\n",
       "      <th></th>\n",
       "      <th></th>\n",
       "    </tr>\n",
       "  </thead>\n",
       "  <tbody>\n",
       "    <tr>\n",
       "      <th>2017-02-11</th>\n",
       "      <td>Saturday</td>\n",
       "      <td>212.0</td>\n",
       "      <td>0.91</td>\n",
       "      <td>35</td>\n",
       "      <td>0.5</td>\n",
       "      <td>21</td>\n",
       "      <td>8.336627</td>\n",
       "    </tr>\n",
       "  </tbody>\n",
       "</table>\n",
       "</div>"
      ],
      "text/plain": [
       "                 Day  Temperature  Rainfall  Flyers  Price  Sales  \\\n",
       "Date                                                                \n",
       "2017-02-11  Saturday        212.0      0.91      35    0.5     21   \n",
       "\n",
       "            temp_zscores  \n",
       "Date                      \n",
       "2017-02-11      8.336627  "
      ]
     },
     "execution_count": 18,
     "metadata": {},
     "output_type": "execute_result"
    }
   ],
   "source": [
    "lemonade[lemonade['temp_zscores'].abs() >=3]"
   ]
  },
  {
   "cell_type": "code",
   "execution_count": null,
   "id": "7b5ce95d",
   "metadata": {},
   "outputs": [],
   "source": []
  }
 ],
 "metadata": {
  "kernelspec": {
   "display_name": "Python 3 (ipykernel)",
   "language": "python",
   "name": "python3"
  },
  "language_info": {
   "codemirror_mode": {
    "name": "ipython",
    "version": 3
   },
   "file_extension": ".py",
   "mimetype": "text/x-python",
   "name": "python",
   "nbconvert_exporter": "python",
   "pygments_lexer": "ipython3",
   "version": "3.9.12"
  }
 },
 "nbformat": 4,
 "nbformat_minor": 5
}
